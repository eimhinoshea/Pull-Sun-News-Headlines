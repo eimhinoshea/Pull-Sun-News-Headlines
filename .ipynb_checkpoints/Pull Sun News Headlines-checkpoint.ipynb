{
 "cells": [
  {
   "cell_type": "code",
   "execution_count": 2,
   "id": "226ec392",
   "metadata": {},
   "outputs": [],
   "source": [
    "from selenium import webdriver\n",
    "from selenium.webdriver.chrome.service import Service\n",
    "import pandas as pd"
   ]
  },
  {
   "cell_type": "code",
   "execution_count": 4,
   "id": "d3c8a679",
   "metadata": {},
   "outputs": [],
   "source": [
    "website = 'https://www.thesun.co.uk/sport/football/'\n",
    "path = 'C:\\\\Users\\\\evanj\\\\OneDrive\\\\Documents\\\\Eimhin\\\\chromedriver'\n",
    "\n",
    "service = Service(executable_path=path)\n",
    "driver = webdriver.Chrome(service=service)\n",
    "driver.get(website)\n",
    "\n",
    "containers = driver.find_elements(by='xpath', value=\"//div[@class='teaser__copy-container']\")\n",
    "\n",
    "titles = []\n",
    "subtitles = []\n",
    "links = []\n",
    "\n",
    "\n",
    "for container in containers:\n",
    "        title = container.find_element(by='xpath', value = \"./a/h3\").text\n",
    "        subtitle = container.find_element(by='xpath', value = \"./a/p\").text\n",
    "        link = container.find_element(by='xpath', value = \"./a\").get_attribute('href')\n",
    "        titles.append(title)\n",
    "        subtitles.append(subtitle)\n",
    "        links.append(link)\n",
    "        \n",
    "\n",
    "my_dict = {'title' : titles, 'subtitle' : subtitles, 'link' : links}\n",
    "\n",
    "df_sunheadlines = pd.DataFrame(my_dict)\n",
    "df_sunheadlines.to_csv('sun_headlines.csv')\n",
    "\n",
    "driver.quit()"
   ]
  }
 ],
 "metadata": {
  "kernelspec": {
   "display_name": "Python 3 (ipykernel)",
   "language": "python",
   "name": "python3"
  },
  "language_info": {
   "codemirror_mode": {
    "name": "ipython",
    "version": 3
   },
   "file_extension": ".py",
   "mimetype": "text/x-python",
   "name": "python",
   "nbconvert_exporter": "python",
   "pygments_lexer": "ipython3",
   "version": "3.9.7"
  }
 },
 "nbformat": 4,
 "nbformat_minor": 5
}
